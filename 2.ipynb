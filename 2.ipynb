{
 "cells": [
  {
   "cell_type": "code",
   "execution_count": 34,
   "metadata": {},
   "outputs": [
    {
     "name": "stdout",
     "output_type": "stream",
     "text": [
      "*\n",
      "* *\n",
      "* * *\n",
      "* * * *\n",
      "* * * * *\n",
      "* * * *\n",
      "* * *\n",
      "* *\n",
      "*\n"
     ]
    }
   ],
   "source": [
    "MIN=2\n",
    "MAX=12\n",
    "AVG=int(MAX/2)\n",
    "\n",
    "for number_of_iter in range(MIN, MAX):\n",
    "    row_to_print = \"\"\n",
    "\n",
    "    if number_of_iter <= AVG:\n",
    "        upper_limit = number_of_iter\n",
    "    else:\n",
    "        upper_limit = MAX - number_of_iter\n",
    " \n",
    "    for loopvar in range(1,upper_limit):\n",
    "        row_to_print = row_to_print + \" \" + \"*\"\n",
    "\n",
    "    if len(row_to_print.strip()) > 0:\n",
    "        print (row_to_print.strip())"
   ]
  },
  {
   "cell_type": "code",
   "execution_count": null,
   "metadata": {},
   "outputs": [],
   "source": []
  },
  {
   "cell_type": "code",
   "execution_count": null,
   "metadata": {},
   "outputs": [],
   "source": []
  }
 ],
 "metadata": {
  "kernelspec": {
   "display_name": "Python 3",
   "language": "python",
   "name": "python3"
  },
  "language_info": {
   "codemirror_mode": {
    "name": "ipython",
    "version": 3
   },
   "file_extension": ".py",
   "mimetype": "text/x-python",
   "name": "python",
   "nbconvert_exporter": "python",
   "pygments_lexer": "ipython3",
   "version": "3.7.0"
  }
 },
 "nbformat": 4,
 "nbformat_minor": 2
}
