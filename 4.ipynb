{
 "cells": [
  {
   "cell_type": "code",
   "execution_count": 12,
   "metadata": {},
   "outputs": [
    {
     "name": "stdout",
     "output_type": "stream",
     "text": [
      "input_sentence : WE, THE PEOPLE OF INDIA, having solemnly resolved to constitute India into a SOVEREIGN, SOCIALIST, SECULAR, DEMOCRATIC REPUBLIC and to secure to all its citizens\n",
      "\n",
      "\n",
      "Formatted sentence :\n",
      "WE, THE PEOPLE OF INDIA,\n",
      "\thaving solemnly resolved to constitute India into a SOVEREIGN, !\n",
      "\t\tSOCIALIST, SECULAR, DEMOCRATIC REPUBLIC \n",
      "\t\t and to secure to all its citizens\n"
     ]
    }
   ],
   "source": [
    "text = \"WE, THE PEOPLE OF INDIA, having solemnly resolved to constitute India into a SOVEREIGN, SOCIALIST, SECULAR, DEMOCRATIC REPUBLIC and to secure to all its citizens\"\n",
    "print (\"input_sentence : \" + text)\n",
    "\n",
    "print (\"\\n\")\n",
    "\n",
    "formatted_sentence = text.replace(\"INDIA, \", \"INDIA,\\n\").replace(\"having\",\"\\thaving\").replace(\"SOVEREIGN, \", \"SOVEREIGN, !\\n\").replace(\"SOCIALIST\",\"\\t\\tSOCIALIST\").replace(\"REPUBLIC \", \"REPUBLIC \\n\").replace(\"and\",\"\\t\\t and\")\n",
    "print (\"Formatted sentence :\\n\" + formatted_sentence)"
   ]
  },
  {
   "cell_type": "code",
   "execution_count": null,
   "metadata": {},
   "outputs": [],
   "source": []
  }
 ],
 "metadata": {
  "kernelspec": {
   "display_name": "Python 3",
   "language": "python",
   "name": "python3"
  },
  "language_info": {
   "codemirror_mode": {
    "name": "ipython",
    "version": 3
   },
   "file_extension": ".py",
   "mimetype": "text/x-python",
   "name": "python",
   "nbconvert_exporter": "python",
   "pygments_lexer": "ipython3",
   "version": "3.7.0"
  }
 },
 "nbformat": 4,
 "nbformat_minor": 2
}
